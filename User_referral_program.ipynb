{
 "cells": [
  {
   "cell_type": "markdown",
   "metadata": {},
   "source": [
    "# USER REFERRAL PROGRAM"
   ]
  },
  {
   "cell_type": "markdown",
   "metadata": {},
   "source": [
    "### Q1: IMPACT OF USER REFERRAL PROGRAM ON THE SITE? ANALYZE REVENUE PER VISOTOR FROM REFERRAL VS. NON-REFERRAL"
   ]
  },
  {
   "cell_type": "code",
   "execution_count": 1,
   "metadata": {},
   "outputs": [],
   "source": [
    "import pandas as pd\n",
    "import numpy as np\n",
    "import matplotlib.pyplot as plt\n",
    "import seaborn as sns\n",
    "%matplotlib inline"
   ]
  },
  {
   "cell_type": "code",
   "execution_count": null,
   "metadata": {},
   "outputs": [],
   "source": [
    "# SQL SOLUTIONS\n",
    "\n",
    "SELECT * FROM takehome_challenges.referral;\n",
    "SELECT MIN(date), MAX(date) FROM takehome_challenges.referral;\n",
    "SELECT COUNT(*), COUNT(user_id), COUNT(date), COUNT(country), COUNT(money_spent), COUNT(is_referral), COUNT(device_id),\n",
    "\tCOUNT(DISTINCT user_id), COUNT(DISTINCT is_referral), COUNT(DISTINCT device_id)\n",
    "FROM takehome_challenges.referral;\n",
    "-- total of 97341 records, with 18809 unique users and 17887 unique devices. \n",
    "\n",
    "-- total purchases from referral vs non-referral \n",
    "SELECT is_referral, COUNT(DISTINCT user_id) AS users, SUM(money_spent) AS total_revenue\n",
    "FROM takehome_challenges.referral\n",
    "GROUP BY 1;\n",
    "-- is_referral, users, total_revenue\n",
    "-- 0\t11951\t3034612\n",
    "-- 1\t12715\t1315787\n",
    "\n",
    "-- purchase by country \n",
    "SELECT COUNT(DISTINCT country) FROM takehome_challenges.referral;\n",
    "-- a total of 9 unique countries\n",
    "WITH temp AS(\n",
    "SELECT country, \n",
    "\tCOUNT(DISTINCT CASE WHEN is_referral = 0 THEN user_id ELSE NULL END) AS non_referred_users,\n",
    "    COUNT(DISTINCT CASE WHEN is_referral = 1 THEN user_id ELSE NULL END) AS referred_users,\n",
    "    SUM(CASE WHEN is_referral = 0 THEN money_spent ELSE NULL END) AS non_referred_revenue,\n",
    "    SUM(CASE WHEN is_referral = 1 THEN money_spent ELSE NULL END) AS referred_revenue\n",
    "FROM takehome_challenges.referral\n",
    "GROUP BY 1\n",
    "ORDER BY 1)\n",
    "SELECT SUM(non_referred_users),\n",
    "\tSUM(referred_users),\n",
    "    SUM(non_referred_revenue),\n",
    "    SUM(referred_revenue)\n",
    "FROM temp;\n",
    "-- non_referred_users, referred_users, non_referred_revenue, referred_revenue\n",
    "-- 40038\t24856\t3034612\t1315787\n",
    "\n",
    "SELECT COUNT(DISTINCT user_id) FROM takehome_challenges.referral;\n",
    "-- 18809\n",
    "\n",
    "SELECT is_referral, COUNT(DISTINCT user_id) FROM takehome_challenges.referral\n",
    "GROUP BY 1;\n",
    "-- 0\t11951\n",
    "-- 1\t12715\n",
    "-- there are overlaps in user_id between referral and non-referral groups\n",
    "\n",
    "SELECT SUM(users) FROM \n",
    "(\n",
    "SELECT country, COUNT(DISTINCT user_id) AS users\n",
    "FROM takehome_challenges.referral\n",
    "GROUP BY 1) temp;\n",
    "-- 62989\n",
    "-- there are overlaps in user_id in different countries\n",
    "\n",
    "-- investigate for each unique user, how many country attributes, how many device attributes, and how many is_referral attributes\n",
    "SELECT * FROM takehome_challenges.referral\n",
    "WHERE user_id = \n",
    "(\n",
    "SELECT user_id\n",
    "FROM takehome_challenges.referral\n",
    "GROUP BY 1\n",
    "HAVING COUNT(DISTINCT is_referral) > 1\n",
    "AND COUNT(DISTINCT country) > 1\n",
    "AND COUNT(DISTINCT device_id) > 1\n",
    "LIMIT 1\n",
    ");\n",
    "-- confirm the previous finding, i.e. one user can have been in different countries, using different devices, and can be either from referral or not\n",
    "\n",
    "-- daily number of users and purchase in both groups \n",
    "SELECT date, \n",
    "\tCOUNT(DISTINCT CASE WHEN is_referral = 0 THEN user_id ELSE NULL END) AS non_referred_users,\n",
    "    COUNT(DISTINCT CASE WHEN is_referral = 1 THEN user_id ELSE NULL END) AS referred_users,\n",
    "    SUM(CASE WHEN is_referral = 0 THEN money_spent ELSE NULL END) AS non_referred_purchases,\n",
    "    SUM(CASE WHEN is_referral = 1 THEN money_spent ELSE NULL END) AS referred_purchases\n",
    "FROM takehome_challenges.referral\n",
    "GROUP BY 1\n",
    "ORDER BY 1;\n",
    "-- referral program starts on 2015-10-31?\n",
    "\n",
    "SELECT is_referral, MIN(date), MAX(date) FROM takehome_challenges.referral\n",
    "GROUP BY 1;\n",
    "-- is_referral, MIN(date), MAX(date)\n",
    "-- 0\t2015-10-03\t2015-11-27\n",
    "-- 1\t2015-10-31\t2015-11-27\n",
    "\n",
    "-- daily number of users and purchase in both groups by day of week\n",
    "SELECT \n",
    "\tWEEKDAY(date),\n",
    "    DAYNAME(date), \n",
    "\tCOUNT(DISTINCT CASE WHEN is_referral = 0 THEN user_id ELSE NULL END) AS non_referred_users,\n",
    "    COUNT(DISTINCT CASE WHEN is_referral = 1 THEN user_id ELSE NULL END) AS referred_users,\n",
    "    SUM(CASE WHEN is_referral = 0 THEN money_spent ELSE NULL END) AS non_referred_purchases,\n",
    "    SUM(CASE WHEN is_referral = 1 THEN money_spent ELSE NULL END) AS referred_purchases\n",
    "FROM takehome_challenges.referral\n",
    "GROUP BY 1,2\n",
    "ORDER BY 1;"
   ]
  },
  {
   "cell_type": "code",
   "execution_count": null,
   "metadata": {},
   "outputs": [],
   "source": [
    "-- What's the unit of diversion? How do we separate referral vs. non-referral?\n",
    "\n",
    "SELECT COUNT(*) AS total_transactions, \n",
    "\tCOUNT(DISTINCT user_id) AS unique_users, \n",
    "    COUNT(DISTINCT device_id) AS unique_devices,\n",
    "\tCOUNT(DISTINCT CASE WHEN is_referral = 1 THEN user_id ELSE NULL END) AS unique_users_referral,\n",
    "    COUNT(DISTINCT CASE WHEN is_referral = 0 THEN user_id ELSE NULL END) AS unique_users_nonreferral\n",
    "FROM takehome_challenges.referral;\n",
    "\n",
    "-- 97341\t18809\t17887\t12715\t11951\n",
    "-- We can see that unit of diversion is transaction, not users, because there are overlap between referral \n",
    "-- and non-referral users\n",
    "\n",
    "\n",
    "\n",
    "-- How many users only had referral transactions, how many only non-referral transactions, how many had both?\n",
    "\n",
    "SELECT \n",
    "\tCOUNT(CASE WHEN r_user_id IS NULL AND n_user_id IS NOT NULL THEN n_user_id END) AS users_nonreferral,\n",
    "\tCOUNT(CASE WHEN r_user_id IS NOT NULL AND n_user_id IS NULL THEN r_user_id END) AS users_referral,\n",
    "    COUNT(CASE WHEN r_user_id IS NOT NULL AND n_user_id IS NOT NULL THEN r_user_id END) AS users_both\n",
    "FROM \n",
    "(\n",
    "SELECT r.user_id AS r_user_id, n.user_id AS n_user_id \n",
    "FROM \n",
    "(SELECT DISTINCT user_id FROM takehome_challenges.referral WHERE is_referral = 1) r\n",
    "LEFT JOIN \n",
    "(SELECT DISTINCT user_id FROM takehome_challenges.referral WHERE is_referral = 0) n \n",
    "ON r.user_id = n.user_id\n",
    "UNION\n",
    "SELECT r.user_id AS r_user_id, n.user_id AS n_user_id  \n",
    "FROM\n",
    "(SELECT DISTINCT user_id FROM takehome_challenges.referral WHERE is_referral = 1) r\n",
    "RIGHT JOIN \n",
    "(SELECT DISTINCT user_id FROM takehome_challenges.referral WHERE is_referral = 0) n \n",
    "ON r.user_id = n.user_id\n",
    ") temp;\n",
    "\n",
    "-- 6094\t6858\t5857\n"
   ]
  },
  {
   "cell_type": "code",
   "execution_count": 2,
   "metadata": {},
   "outputs": [
    {
     "data": {
      "text/html": [
       "<div>\n",
       "<style scoped>\n",
       "    .dataframe tbody tr th:only-of-type {\n",
       "        vertical-align: middle;\n",
       "    }\n",
       "\n",
       "    .dataframe tbody tr th {\n",
       "        vertical-align: top;\n",
       "    }\n",
       "\n",
       "    .dataframe thead th {\n",
       "        text-align: right;\n",
       "    }\n",
       "</style>\n",
       "<table border=\"1\" class=\"dataframe\">\n",
       "  <thead>\n",
       "    <tr style=\"text-align: right;\">\n",
       "      <th></th>\n",
       "      <th>user_id</th>\n",
       "      <th>date</th>\n",
       "      <th>country</th>\n",
       "      <th>money_spent</th>\n",
       "      <th>is_referral</th>\n",
       "      <th>device_id</th>\n",
       "    </tr>\n",
       "  </thead>\n",
       "  <tbody>\n",
       "    <tr>\n",
       "      <th>0</th>\n",
       "      <td>2</td>\n",
       "      <td>2015-10-03</td>\n",
       "      <td>FR</td>\n",
       "      <td>65</td>\n",
       "      <td>0</td>\n",
       "      <td>EVDCJTZMVMJDG</td>\n",
       "    </tr>\n",
       "    <tr>\n",
       "      <th>1</th>\n",
       "      <td>3</td>\n",
       "      <td>2015-10-03</td>\n",
       "      <td>CA</td>\n",
       "      <td>54</td>\n",
       "      <td>0</td>\n",
       "      <td>WUBZFTVKXGQQX</td>\n",
       "    </tr>\n",
       "    <tr>\n",
       "      <th>2</th>\n",
       "      <td>6</td>\n",
       "      <td>2015-10-03</td>\n",
       "      <td>FR</td>\n",
       "      <td>35</td>\n",
       "      <td>0</td>\n",
       "      <td>CBAPCJRTFNUJG</td>\n",
       "    </tr>\n",
       "    <tr>\n",
       "      <th>3</th>\n",
       "      <td>7</td>\n",
       "      <td>2015-10-03</td>\n",
       "      <td>UK</td>\n",
       "      <td>73</td>\n",
       "      <td>0</td>\n",
       "      <td>PRGXJZAJKMXRH</td>\n",
       "    </tr>\n",
       "    <tr>\n",
       "      <th>4</th>\n",
       "      <td>7</td>\n",
       "      <td>2015-10-03</td>\n",
       "      <td>MX</td>\n",
       "      <td>35</td>\n",
       "      <td>0</td>\n",
       "      <td>PRGXJZAJKMXRH</td>\n",
       "    </tr>\n",
       "  </tbody>\n",
       "</table>\n",
       "</div>"
      ],
      "text/plain": [
       "   user_id        date country  money_spent  is_referral      device_id\n",
       "0        2  2015-10-03      FR           65            0  EVDCJTZMVMJDG\n",
       "1        3  2015-10-03      CA           54            0  WUBZFTVKXGQQX\n",
       "2        6  2015-10-03      FR           35            0  CBAPCJRTFNUJG\n",
       "3        7  2015-10-03      UK           73            0  PRGXJZAJKMXRH\n",
       "4        7  2015-10-03      MX           35            0  PRGXJZAJKMXRH"
      ]
     },
     "execution_count": 2,
     "metadata": {},
     "output_type": "execute_result"
    }
   ],
   "source": [
    "referral = pd.read_csv('referral.csv')\n",
    "referral.head()"
   ]
  },
  {
   "cell_type": "code",
   "execution_count": 8,
   "metadata": {},
   "outputs": [],
   "source": [
    "# segment users into groups and calculate conversion rate, also add another level of index: control vs treatment\n",
    "def conversion_segments_ABtest(df, seg_col, test_col, conv_col):\n",
    "    table = pd.pivot_table(df, values=conv_col, index=seg_col, columns=test_col, \n",
    "                           aggfunc=np.mean).rename_axis(None, axis=1).rename_axis(None, axis=0)\n",
    "    table.plot(kind='bar')\n",
    "    return table\n",
    "\n",
    "# segment users into groups and calculate conversion rate, no split b/t control vs treatment\n",
    "def conversion_segments(df, seg_col, conv_col):\n",
    "    table = pd.pivot_table(df, values=conv_col, index=seg_col, \n",
    "                           aggfunc=np.mean).rename_axis(None, axis=1).rename_axis(None, axis=0)\n",
    "    table.plot(kind='bar')\n",
    "    return table\n",
    "\n",
    "# calculate total user count and conversion rate for each segments \n",
    "def count_and_rate(df, seg_col, conv_col):\n",
    "    t1 = df[[seg_col, conv_col]].groupby(seg_col).count().reset_index()\n",
    "    t2 = df[[seg_col, conv_col]].groupby(seg_col).mean().reset_index()\n",
    "    t3 = pd.merge(t1, t2, on=seg_col)\n",
    "    t3.columns = [seg_col, 'count', 'rate']\n",
    "    return t3            \n",
    "\n",
    "def count_and_rate_plot(count_and_rate_table):\n",
    "    sns.set(font_scale=1.2, palette='Set2')\n",
    "    cols = count_and_rate_table.columns\n",
    "    fig = plt.figure(figsize=(18,4))\n",
    "    ax1 = fig.add_subplot(1,2,1)\n",
    "    count_and_rate_table.plot(kind='bar', x=cols[0], y=cols[1], ax=ax1, legend=None)\n",
    "    plt.xticks(rotation=45, fontsize=15, ha='center')\n",
    "    plt.ylabel('Total count', fontsize=20)\n",
    "    plt.xlabel(cols[0], fontsize=20)\n",
    "\n",
    "    ax2 = fig.add_subplot(1,2,2)\n",
    "    count_and_rate_table.plot(kind='bar', x=cols[0], y=cols[2], ax=ax2, legend=None)\n",
    "    plt.xticks(rotation=45, fontsize=15, ha='center')\n",
    "    plt.ylabel('Conversion rate', fontsize=20)\n",
    "    plt.xlabel(cols[0], fontsize=20)\n",
    "    return\n",
    "\n",
    "# histogram for continuous variable, split by a target column\n",
    "#kws={\"histtype\": \"bar\", \"alpha\": 0.3}\n",
    "kws={'histtype': 'bar', 'edgecolor':'black', 'alpha': 0.2}\n",
    "\n",
    "def histplot(df, var_col, tar_col, binsize=20, yscale='linear'):\n",
    "    tar_vals = df[tar_col].value_counts().index\n",
    "    for tar_val in tar_vals:\n",
    "        sns.distplot(df.loc[df[tar_col]==tar_val, var_col], bins=binsize, hist_kws=kws, kde=True, norm_hist=True, label=str(tar_val))\n",
    "    plt.yscale(yscale)\n",
    "    plt.ylabel('frequency',  fontsize=15)\n",
    "    plt.xlabel(var_col, fontsize=15)\n",
    "    plt.legend(fontsize=15)\n",
    "    return \n"
   ]
  },
  {
   "cell_type": "code",
   "execution_count": 10,
   "metadata": {},
   "outputs": [
    {
     "data": {
      "text/html": [
       "<div>\n",
       "<style scoped>\n",
       "    .dataframe tbody tr th:only-of-type {\n",
       "        vertical-align: middle;\n",
       "    }\n",
       "\n",
       "    .dataframe tbody tr th {\n",
       "        vertical-align: top;\n",
       "    }\n",
       "\n",
       "    .dataframe thead th {\n",
       "        text-align: right;\n",
       "    }\n",
       "</style>\n",
       "<table border=\"1\" class=\"dataframe\">\n",
       "  <thead>\n",
       "    <tr style=\"text-align: right;\">\n",
       "      <th></th>\n",
       "      <th>0</th>\n",
       "      <th>1</th>\n",
       "    </tr>\n",
       "  </thead>\n",
       "  <tbody>\n",
       "    <tr>\n",
       "      <th>CA</th>\n",
       "      <td>44.335881</td>\n",
       "      <td>48.820032</td>\n",
       "    </tr>\n",
       "    <tr>\n",
       "      <th>CH</th>\n",
       "      <td>57.971579</td>\n",
       "      <td>59.544803</td>\n",
       "    </tr>\n",
       "    <tr>\n",
       "      <th>DE</th>\n",
       "      <td>43.907457</td>\n",
       "      <td>49.072149</td>\n",
       "    </tr>\n",
       "    <tr>\n",
       "      <th>ES</th>\n",
       "      <td>43.135766</td>\n",
       "      <td>44.634879</td>\n",
       "    </tr>\n",
       "    <tr>\n",
       "      <th>FR</th>\n",
       "      <td>43.272727</td>\n",
       "      <td>44.608045</td>\n",
       "    </tr>\n",
       "    <tr>\n",
       "      <th>IT</th>\n",
       "      <td>43.263098</td>\n",
       "      <td>44.511167</td>\n",
       "    </tr>\n",
       "    <tr>\n",
       "      <th>MX</th>\n",
       "      <td>40.618520</td>\n",
       "      <td>42.939346</td>\n",
       "    </tr>\n",
       "    <tr>\n",
       "      <th>UK</th>\n",
       "      <td>44.362494</td>\n",
       "      <td>49.630776</td>\n",
       "    </tr>\n",
       "    <tr>\n",
       "      <th>US</th>\n",
       "      <td>44.349394</td>\n",
       "      <td>49.742201</td>\n",
       "    </tr>\n",
       "  </tbody>\n",
       "</table>\n",
       "</div>"
      ],
      "text/plain": [
       "            0          1\n",
       "CA  44.335881  48.820032\n",
       "CH  57.971579  59.544803\n",
       "DE  43.907457  49.072149\n",
       "ES  43.135766  44.634879\n",
       "FR  43.272727  44.608045\n",
       "IT  43.263098  44.511167\n",
       "MX  40.618520  42.939346\n",
       "UK  44.362494  49.630776\n",
       "US  44.349394  49.742201"
      ]
     },
     "execution_count": 10,
     "metadata": {},
     "output_type": "execute_result"
    },
    {
     "data": {
      "text/plain": [
       "<Figure size 864x288 with 0 Axes>"
      ]
     },
     "metadata": {},
     "output_type": "display_data"
    },
    {
     "data": {
      "image/png": "[encoded data removed]",
      "text/plain": [
       "<Figure size 432x288 with 1 Axes>"
      ]
     },
     "metadata": {},
     "output_type": "display_data"
    }
   ],
   "source": [
    "sns.set(font_scale=1.2, palette='Set2')\n",
    "fig = plt.figure(figsize=(12,4))\n",
    "conversion_segments_ABtest(referral, 'country', 'is_referral', 'money_spent')"
   ]
  },
  {
   "cell_type": "code",
   "execution_count": 9,
   "metadata": {},
   "outputs": [
    {
     "name": "stderr",
     "output_type": "stream",
     "text": [
      "C:\\Users\\Mengfan\\Anaconda3\\lib\\site-packages\\matplotlib\\axes\\_axes.py:6462: UserWarning: The 'normed' kwarg is deprecated, and has been replaced by the 'density' kwarg.\n",
      "  warnings.warn(\"The 'normed' kwarg is deprecated, and has been \"\n",
      "C:\\Users\\Mengfan\\Anaconda3\\lib\\site-packages\\matplotlib\\axes\\_axes.py:6462: UserWarning: The 'normed' kwarg is deprecated, and has been replaced by the 'density' kwarg.\n",
      "  warnings.warn(\"The 'normed' kwarg is deprecated, and has been \"\n"
     ]
    },
    {
     "data": {
      "image/png": "[encoded data removed]",
      "text/plain": [
       "<Figure size 864x288 with 1 Axes>"
      ]
     },
     "metadata": {},
     "output_type": "display_data"
    }
   ],
   "source": [
    "sns.set(font_scale=1.2, palette='Set1')\n",
    "fig = plt.figure(figsize=(12,4))\n",
    "histplot(referral, 'money_spent', 'is_referral', binsize=20, yscale='linear')"
   ]
  },
  {
   "cell_type": "code",
   "execution_count": 11,
   "metadata": {},
   "outputs": [
    {
     "data": {
      "image/png": "[encoded data removed]",
      "text/plain": [
       "<Figure size 1296x288 with 2 Axes>"
      ]
     },
     "metadata": {},
     "output_type": "display_data"
    }
   ],
   "source": [
    "count_and_rate_plot(count_and_rate(referral, 'is_referral', 'money_spent'))"
   ]
  },
  {
   "cell_type": "markdown",
   "metadata": {},
   "source": [
    "### Less transactions are through referral, but average transaction amount from referral is higher."
   ]
  },
  {
   "cell_type": "code",
   "execution_count": null,
   "metadata": {},
   "outputs": [],
   "source": []
  }
 ],
 "metadata": {
  "kernelspec": {
   "display_name": "Python 3",
   "language": "python",
   "name": "python3"
  },
  "language_info": {
   "codemirror_mode": {
    "name": "ipython",
    "version": 3
   },
   "file_extension": ".py",
   "mimetype": "text/x-python",
   "name": "python",
   "nbconvert_exporter": "python",
   "pygments_lexer": "ipython3",
   "version": "3.6.5"
  }
 },
 "nbformat": 4,
 "nbformat_minor": 2
}
