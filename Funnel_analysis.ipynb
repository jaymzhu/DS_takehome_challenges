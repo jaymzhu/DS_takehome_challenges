{
 "cells": [
  {
   "cell_type": "markdown",
   "metadata": {},
   "source": [
    "# Funnerl Analysis\n",
    "\n",
    "A e-commerce website has customer funnels as follows\n",
    "1. Home page\n",
    "2. Search page\n",
    "3. Payment Page\n",
    "4. Confirmation page\n",
    "\n",
    "This analysis figures out how to improve conversion rate, by analyzing each funnel step for mobile users and desktop users."
   ]
  },
  {
   "cell_type": "code",
   "execution_count": 55,
   "metadata": {},
   "outputs": [],
   "source": [
    "import pandas as pd\n",
    "import numpy as np\n",
    "import matplotlib.pyplot as plt\n",
    "import seaborn as sns\n",
    "import sqlite3\n",
    "%matplotlib inline"
   ]
  },
  {
   "cell_type": "code",
   "execution_count": 9,
   "metadata": {},
   "outputs": [],
   "source": [
    "table0_users = pd.read_csv('Funnel/user_table.csv')\n",
    "table1_home = pd.read_csv('Funnel/home_page_table.csv')\n",
    "table2_search = pd.read_csv('Funnel/search_page_table.csv')\n",
    "table3_payment = pd.read_csv('Funnel/payment_page_table.csv')\n",
    "table4_confirm = pd.read_csv('Funnel/payment_confirmation_table.csv')"
   ]
  },
  {
   "cell_type": "code",
   "execution_count": 28,
   "metadata": {},
   "outputs": [
    {
     "data": {
      "text/plain": [
       "(90400, 2)"
      ]
     },
     "execution_count": 28,
     "metadata": {},
     "output_type": "execute_result"
    }
   ],
   "source": [
    "table1_home.shape"
   ]
  },
  {
   "cell_type": "code",
   "execution_count": 76,
   "metadata": {},
   "outputs": [],
   "source": [
    "table01 = pd.merge(table0_users, table1_home, on='user_id', how='left')\n",
    "table012 = pd.merge(table01, table2_search, on='user_id', how='left')\n",
    "table0123 = pd.merge(table012, table3_payment, on='user_id', how='left')\n",
    "table01234 = pd.merge(table0123, table4_confirm, on='user_id', how='left')\n",
    "table01234.columns = ['user_id', 'date', 'device', 'sex', 'home_page', 'search_page', 'payment_page', 'confirm_page']"
   ]
  },
  {
   "cell_type": "code",
   "execution_count": 77,
   "metadata": {},
   "outputs": [
    {
     "data": {
      "text/html": [
       "<div>\n",
       "<style scoped>\n",
       "    .dataframe tbody tr th:only-of-type {\n",
       "        vertical-align: middle;\n",
       "    }\n",
       "\n",
       "    .dataframe tbody tr th {\n",
       "        vertical-align: top;\n",
       "    }\n",
       "\n",
       "    .dataframe thead th {\n",
       "        text-align: right;\n",
       "    }\n",
       "</style>\n",
       "<table border=\"1\" class=\"dataframe\">\n",
       "  <thead>\n",
       "    <tr style=\"text-align: right;\">\n",
       "      <th></th>\n",
       "      <th>user_id</th>\n",
       "      <th>date</th>\n",
       "      <th>device</th>\n",
       "      <th>sex</th>\n",
       "      <th>home_page</th>\n",
       "      <th>search_page</th>\n",
       "      <th>payment_page</th>\n",
       "      <th>confirm_page</th>\n",
       "    </tr>\n",
       "  </thead>\n",
       "  <tbody>\n",
       "    <tr>\n",
       "      <th>0</th>\n",
       "      <td>450007</td>\n",
       "      <td>2015-02-28</td>\n",
       "      <td>Desktop</td>\n",
       "      <td>Female</td>\n",
       "      <td>home_page</td>\n",
       "      <td>NaN</td>\n",
       "      <td>NaN</td>\n",
       "      <td>NaN</td>\n",
       "    </tr>\n",
       "    <tr>\n",
       "      <th>1</th>\n",
       "      <td>756838</td>\n",
       "      <td>2015-01-13</td>\n",
       "      <td>Desktop</td>\n",
       "      <td>Male</td>\n",
       "      <td>home_page</td>\n",
       "      <td>NaN</td>\n",
       "      <td>NaN</td>\n",
       "      <td>NaN</td>\n",
       "    </tr>\n",
       "    <tr>\n",
       "      <th>2</th>\n",
       "      <td>568983</td>\n",
       "      <td>2015-04-09</td>\n",
       "      <td>Desktop</td>\n",
       "      <td>Male</td>\n",
       "      <td>home_page</td>\n",
       "      <td>search_page</td>\n",
       "      <td>NaN</td>\n",
       "      <td>NaN</td>\n",
       "    </tr>\n",
       "    <tr>\n",
       "      <th>3</th>\n",
       "      <td>190794</td>\n",
       "      <td>2015-02-18</td>\n",
       "      <td>Desktop</td>\n",
       "      <td>Female</td>\n",
       "      <td>home_page</td>\n",
       "      <td>search_page</td>\n",
       "      <td>NaN</td>\n",
       "      <td>NaN</td>\n",
       "    </tr>\n",
       "    <tr>\n",
       "      <th>4</th>\n",
       "      <td>537909</td>\n",
       "      <td>2015-01-15</td>\n",
       "      <td>Desktop</td>\n",
       "      <td>Male</td>\n",
       "      <td>home_page</td>\n",
       "      <td>NaN</td>\n",
       "      <td>NaN</td>\n",
       "      <td>NaN</td>\n",
       "    </tr>\n",
       "  </tbody>\n",
       "</table>\n",
       "</div>"
      ],
      "text/plain": [
       "   user_id        date   device     sex  home_page  search_page payment_page  \\\n",
       "0   450007  2015-02-28  Desktop  Female  home_page          NaN          NaN   \n",
       "1   756838  2015-01-13  Desktop    Male  home_page          NaN          NaN   \n",
       "2   568983  2015-04-09  Desktop    Male  home_page  search_page          NaN   \n",
       "3   190794  2015-02-18  Desktop  Female  home_page  search_page          NaN   \n",
       "4   537909  2015-01-15  Desktop    Male  home_page          NaN          NaN   \n",
       "\n",
       "  confirm_page  \n",
       "0          NaN  \n",
       "1          NaN  \n",
       "2          NaN  \n",
       "3          NaN  \n",
       "4          NaN  "
      ]
     },
     "execution_count": 77,
     "metadata": {},
     "output_type": "execute_result"
    }
   ],
   "source": [
    "table01234.head()"
   ]
  },
  {
   "cell_type": "code",
   "execution_count": 78,
   "metadata": {},
   "outputs": [],
   "source": [
    "table01234.iloc[:,-4:] = table01234.iloc[:,-4:].notnull().astype('int')"
   ]
  },
  {
   "cell_type": "code",
   "execution_count": 80,
   "metadata": {},
   "outputs": [
    {
     "data": {
      "text/html": [
       "<div>\n",
       "<style scoped>\n",
       "    .dataframe tbody tr th:only-of-type {\n",
       "        vertical-align: middle;\n",
       "    }\n",
       "\n",
       "    .dataframe tbody tr th {\n",
       "        vertical-align: top;\n",
       "    }\n",
       "\n",
       "    .dataframe thead th {\n",
       "        text-align: right;\n",
       "    }\n",
       "</style>\n",
       "<table border=\"1\" class=\"dataframe\">\n",
       "  <thead>\n",
       "    <tr style=\"text-align: right;\">\n",
       "      <th></th>\n",
       "      <th>user_id</th>\n",
       "      <th>date</th>\n",
       "      <th>device</th>\n",
       "      <th>sex</th>\n",
       "      <th>home_page</th>\n",
       "      <th>search_page</th>\n",
       "      <th>payment_page</th>\n",
       "      <th>confirm_page</th>\n",
       "    </tr>\n",
       "  </thead>\n",
       "  <tbody>\n",
       "    <tr>\n",
       "      <th>0</th>\n",
       "      <td>450007</td>\n",
       "      <td>2015-02-28</td>\n",
       "      <td>Desktop</td>\n",
       "      <td>Female</td>\n",
       "      <td>1</td>\n",
       "      <td>0</td>\n",
       "      <td>0</td>\n",
       "      <td>0</td>\n",
       "    </tr>\n",
       "    <tr>\n",
       "      <th>1</th>\n",
       "      <td>756838</td>\n",
       "      <td>2015-01-13</td>\n",
       "      <td>Desktop</td>\n",
       "      <td>Male</td>\n",
       "      <td>1</td>\n",
       "      <td>0</td>\n",
       "      <td>0</td>\n",
       "      <td>0</td>\n",
       "    </tr>\n",
       "    <tr>\n",
       "      <th>2</th>\n",
       "      <td>568983</td>\n",
       "      <td>2015-04-09</td>\n",
       "      <td>Desktop</td>\n",
       "      <td>Male</td>\n",
       "      <td>1</td>\n",
       "      <td>1</td>\n",
       "      <td>0</td>\n",
       "      <td>0</td>\n",
       "    </tr>\n",
       "    <tr>\n",
       "      <th>3</th>\n",
       "      <td>190794</td>\n",
       "      <td>2015-02-18</td>\n",
       "      <td>Desktop</td>\n",
       "      <td>Female</td>\n",
       "      <td>1</td>\n",
       "      <td>1</td>\n",
       "      <td>0</td>\n",
       "      <td>0</td>\n",
       "    </tr>\n",
       "    <tr>\n",
       "      <th>4</th>\n",
       "      <td>537909</td>\n",
       "      <td>2015-01-15</td>\n",
       "      <td>Desktop</td>\n",
       "      <td>Male</td>\n",
       "      <td>1</td>\n",
       "      <td>0</td>\n",
       "      <td>0</td>\n",
       "      <td>0</td>\n",
       "    </tr>\n",
       "  </tbody>\n",
       "</table>\n",
       "</div>"
      ],
      "text/plain": [
       "   user_id        date   device     sex  home_page  search_page  payment_page  \\\n",
       "0   450007  2015-02-28  Desktop  Female          1            0             0   \n",
       "1   756838  2015-01-13  Desktop    Male          1            0             0   \n",
       "2   568983  2015-04-09  Desktop    Male          1            1             0   \n",
       "3   190794  2015-02-18  Desktop  Female          1            1             0   \n",
       "4   537909  2015-01-15  Desktop    Male          1            0             0   \n",
       "\n",
       "   confirm_page  \n",
       "0             0  \n",
       "1             0  \n",
       "2             0  \n",
       "3             0  \n",
       "4             0  "
      ]
     },
     "execution_count": 80,
     "metadata": {},
     "output_type": "execute_result"
    }
   ],
   "source": [
    "table01234.head()"
   ]
  },
  {
   "cell_type": "code",
   "execution_count": 99,
   "metadata": {},
   "outputs": [],
   "source": [
    "home_page_by_device = table01234[['device', 'home_page']].groupby('device').sum().reset_index()\n",
    "home_page_by_sex = table01234[['sex', 'home_page']].groupby('sex').sum().reset_index()\n",
    "\n",
    "search_page_by_device = table01234[['device', 'search_page']].groupby('device').sum().reset_index()\n",
    "search_page_by_sex = table01234[['sex', 'search_page']].groupby('sex').sum().reset_index()\n",
    "\n",
    "payment_page_by_device = table01234[['device', 'payment_page']].groupby('device').sum().reset_index()\n",
    "payment_page_by_sex = table01234[['sex', 'payment_page']].groupby('sex').sum().reset_index()\n",
    "\n",
    "confirm_page_by_device = table01234[['device', 'confirm_page']].groupby('device').sum().reset_index()\n",
    "confirm_page_by_sex = table01234[['sex', 'confirm_page']].groupby('sex').sum().reset_index()"
   ]
  },
  {
   "cell_type": "code",
   "execution_count": 125,
   "metadata": {},
   "outputs": [],
   "source": [
    "by_device = pd.concat([home_page_by_device, search_page_by_device.iloc[:,1], payment_page_by_device.iloc[:,1], \n",
    "                       confirm_page_by_device.iloc[:,1]], axis=1)\n",
    "\n",
    "by_sex = pd.concat([home_page_by_sex, search_page_by_sex.iloc[:,1], payment_page_by_sex.iloc[:,1], \n",
    "                       confirm_page_by_sex.iloc[:,1]], axis=1)\n",
    "\n",
    "by_device['conv_s2h'] = by_device['search_page']/by_device['home_page']\n",
    "by_device['conv_p2s'] = by_device['payment_page']/by_device['search_page']\n",
    "by_device['conv_c2p'] = by_device['confirm_page']/by_device['payment_page']\n",
    "\n",
    "by_sex['conv_s2h'] = by_sex['search_page']/by_sex['home_page']\n",
    "by_sex['conv_p2s'] = by_sex['payment_page']/by_sex['search_page']\n",
    "by_sex['conv_c2p'] = by_sex['confirm_page']/by_sex['payment_page']\n"
   ]
  },
  {
   "cell_type": "code",
   "execution_count": 129,
   "metadata": {},
   "outputs": [
    {
     "data": {
      "text/html": [
       "<div>\n",
       "<style scoped>\n",
       "    .dataframe tbody tr th:only-of-type {\n",
       "        vertical-align: middle;\n",
       "    }\n",
       "\n",
       "    .dataframe tbody tr th {\n",
       "        vertical-align: top;\n",
       "    }\n",
       "\n",
       "    .dataframe thead th {\n",
       "        text-align: right;\n",
       "    }\n",
       "</style>\n",
       "<table border=\"1\" class=\"dataframe\">\n",
       "  <thead>\n",
       "    <tr style=\"text-align: right;\">\n",
       "      <th></th>\n",
       "      <th>device</th>\n",
       "      <th>home_page</th>\n",
       "      <th>search_page</th>\n",
       "      <th>payment_page</th>\n",
       "      <th>confirm_page</th>\n",
       "      <th>conv_s2h</th>\n",
       "      <th>conv_p2s</th>\n",
       "      <th>conv_c2p</th>\n",
       "    </tr>\n",
       "  </thead>\n",
       "  <tbody>\n",
       "    <tr>\n",
       "      <th>0</th>\n",
       "      <td>Desktop</td>\n",
       "      <td>60200</td>\n",
       "      <td>30100</td>\n",
       "      <td>3010</td>\n",
       "      <td>150</td>\n",
       "      <td>0.5</td>\n",
       "      <td>0.1</td>\n",
       "      <td>0.049834</td>\n",
       "    </tr>\n",
       "    <tr>\n",
       "      <th>1</th>\n",
       "      <td>Mobile</td>\n",
       "      <td>30200</td>\n",
       "      <td>15100</td>\n",
       "      <td>3020</td>\n",
       "      <td>302</td>\n",
       "      <td>0.5</td>\n",
       "      <td>0.2</td>\n",
       "      <td>0.100000</td>\n",
       "    </tr>\n",
       "  </tbody>\n",
       "</table>\n",
       "</div>"
      ],
      "text/plain": [
       "    device  home_page  search_page  payment_page  confirm_page  conv_s2h  \\\n",
       "0  Desktop      60200        30100          3010           150       0.5   \n",
       "1   Mobile      30200        15100          3020           302       0.5   \n",
       "\n",
       "   conv_p2s  conv_c2p  \n",
       "0       0.1  0.049834  \n",
       "1       0.2  0.100000  "
      ]
     },
     "execution_count": 129,
     "metadata": {},
     "output_type": "execute_result"
    }
   ],
   "source": [
    "by_device\n"
   ]
  },
  {
   "cell_type": "code",
   "execution_count": 130,
   "metadata": {},
   "outputs": [
    {
     "data": {
      "text/html": [
       "<div>\n",
       "<style scoped>\n",
       "    .dataframe tbody tr th:only-of-type {\n",
       "        vertical-align: middle;\n",
       "    }\n",
       "\n",
       "    .dataframe tbody tr th {\n",
       "        vertical-align: top;\n",
       "    }\n",
       "\n",
       "    .dataframe thead th {\n",
       "        text-align: right;\n",
       "    }\n",
       "</style>\n",
       "<table border=\"1\" class=\"dataframe\">\n",
       "  <thead>\n",
       "    <tr style=\"text-align: right;\">\n",
       "      <th></th>\n",
       "      <th>sex</th>\n",
       "      <th>home_page</th>\n",
       "      <th>search_page</th>\n",
       "      <th>payment_page</th>\n",
       "      <th>confirm_page</th>\n",
       "      <th>conv_s2h</th>\n",
       "      <th>conv_p2s</th>\n",
       "      <th>conv_c2p</th>\n",
       "    </tr>\n",
       "  </thead>\n",
       "  <tbody>\n",
       "    <tr>\n",
       "      <th>0</th>\n",
       "      <td>Female</td>\n",
       "      <td>45075</td>\n",
       "      <td>22676</td>\n",
       "      <td>3100</td>\n",
       "      <td>241</td>\n",
       "      <td>0.503073</td>\n",
       "      <td>0.136708</td>\n",
       "      <td>0.077742</td>\n",
       "    </tr>\n",
       "    <tr>\n",
       "      <th>1</th>\n",
       "      <td>Male</td>\n",
       "      <td>45325</td>\n",
       "      <td>22524</td>\n",
       "      <td>2930</td>\n",
       "      <td>211</td>\n",
       "      <td>0.496944</td>\n",
       "      <td>0.130083</td>\n",
       "      <td>0.072014</td>\n",
       "    </tr>\n",
       "  </tbody>\n",
       "</table>\n",
       "</div>"
      ],
      "text/plain": [
       "      sex  home_page  search_page  payment_page  confirm_page  conv_s2h  \\\n",
       "0  Female      45075        22676          3100           241  0.503073   \n",
       "1    Male      45325        22524          2930           211  0.496944   \n",
       "\n",
       "   conv_p2s  conv_c2p  \n",
       "0  0.136708  0.077742  \n",
       "1  0.130083  0.072014  "
      ]
     },
     "execution_count": 130,
     "metadata": {},
     "output_type": "execute_result"
    }
   ],
   "source": [
    "by_sex"
   ]
  },
  {
   "cell_type": "code",
   "execution_count": 142,
   "metadata": {},
   "outputs": [
    {
     "data": {
      "text/plain": [
       "<matplotlib.legend.Legend at 0x1412b780>"
      ]
     },
     "execution_count": 142,
     "metadata": {},
     "output_type": "execute_result"
    },
    {
     "data": {
      "image/png": "[encoded data removed]",
      "text/plain": [
       "<Figure size 864x864 with 4 Axes>"
      ]
     },
     "metadata": {},
     "output_type": "display_data"
    }
   ],
   "source": [
    "fig = plt.figure(figsize=(12,12))\n",
    "\n",
    "ax1 = fig.add_subplot(2,2,1)\n",
    "by_device.iloc[:,:5].plot.bar(x='device', ax=ax1)\n",
    "#plt.set_xticklabels(by_device['device'])\n",
    "plt.yscale('log')\n",
    "plt.xticks(rotation=45,ha='right')\n",
    "plt.legend(loc='upper center')\n",
    "\n",
    "ax2 = fig.add_subplot(2,2,2)\n",
    "by_sex.iloc[:,:5].plot.bar(x='sex', ax=ax2)\n",
    "plt.yscale('log')\n",
    "plt.xticks(rotation=45,ha='right')\n",
    "plt.legend(loc='upper center')\n",
    "\n",
    "ax3 = fig.add_subplot(2,2,3)\n",
    "by_device[['device', 'conv_s2h', 'conv_p2s', 'conv_c2p']].plot.bar(x='device', ax=ax3)\n",
    "plt.yscale('linear')\n",
    "plt.xticks(rotation=45,ha='right')\n",
    "plt.legend(loc='upper center')\n",
    "\n",
    "ax4 = fig.add_subplot(2,2,4)\n",
    "by_sex[['sex', 'conv_s2h', 'conv_p2s', 'conv_c2p']].plot.bar(x='sex', ax=ax4)\n",
    "plt.yscale('linear')\n",
    "plt.xticks(rotation=45,ha='right')\n",
    "plt.legend(loc='upper center')\n"
   ]
  },
  {
   "cell_type": "markdown",
   "metadata": {},
   "source": [
    "### Conclusion:\n",
    "### Desktop has more users than mobile, but the conversion rates from search page to payment page, and from payment page to confirmation page are higher for mobile users. It's best if we can target these desktop users and find out the reason why they are not convertion. "
   ]
  },
  {
   "cell_type": "code",
   "execution_count": null,
   "metadata": {},
   "outputs": [],
   "source": []
  }
 ],
 "metadata": {
  "kernelspec": {
   "display_name": "Python 3",
   "language": "python",
   "name": "python3"
  },
  "language_info": {
   "codemirror_mode": {
    "name": "ipython",
    "version": 3
   },
   "file_extension": ".py",
   "mimetype": "text/x-python",
   "name": "python",
   "nbconvert_exporter": "python",
   "pygments_lexer": "ipython3",
   "version": "3.6.5"
  }
 },
 "nbformat": 4,
 "nbformat_minor": 2
}
